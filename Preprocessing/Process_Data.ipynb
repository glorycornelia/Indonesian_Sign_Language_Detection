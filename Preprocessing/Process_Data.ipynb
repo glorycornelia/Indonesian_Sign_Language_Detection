{
 "cells": [
  {
   "cell_type": "code",
   "execution_count": 1,
   "metadata": {},
   "outputs": [
    {
     "name": "stdout",
     "output_type": "stream",
     "text": [
      "WARNING:tensorflow:From d:\\python\\Lib\\site-packages\\keras\\src\\losses.py:2976: The name tf.losses.sparse_softmax_cross_entropy is deprecated. Please use tf.compat.v1.losses.sparse_softmax_cross_entropy instead.\n",
      "\n"
     ]
    }
   ],
   "source": [
    "import cv2\n",
    "import numpy as np\n",
    "import os\n",
    "from matplotlib import pyplot as plt\n",
    "import time\n",
    "import mediapipe as mp"
   ]
  },
  {
   "cell_type": "markdown",
   "metadata": {},
   "source": [
    "Key Points Using Holistic"
   ]
  },
  {
   "cell_type": "code",
   "execution_count": 2,
   "metadata": {},
   "outputs": [],
   "source": [
    "mp_holistic = mp.solutions.holistic # Holistic model\n",
    "mp_drawing = mp.solutions.drawing_utils # Drawing utilities"
   ]
  },
  {
   "cell_type": "code",
   "execution_count": 3,
   "metadata": {},
   "outputs": [],
   "source": [
    "def mediapipe_detection(image, model):\n",
    "    image = cv2.cvtColor(image, cv2.COLOR_BGR2RGB) # COLOR CONVERSION BGR 2 RGB\n",
    "    image.flags.writeable = False                  # Image is no longer writeable\n",
    "    results = model.process(image)                 # Make prediction\n",
    "    image.flags.writeable = True                   # Image is now writeable \n",
    "    image = cv2.cvtColor(image, cv2.COLOR_RGB2BGR) # COLOR COVERSION RGB 2 BGR\n",
    "    return image, results"
   ]
  },
  {
   "cell_type": "code",
   "execution_count": 4,
   "metadata": {},
   "outputs": [],
   "source": [
    "def draw_styled_landmarks(image, results):\n",
    "    # Draw pose connections\n",
    "    mp_drawing.draw_landmarks(image, results.pose_landmarks, mp_holistic.POSE_CONNECTIONS,\n",
    "                             mp_drawing.DrawingSpec(color=(80,22,10), thickness=1, circle_radius=3), \n",
    "                             mp_drawing.DrawingSpec(color=(80,44,121), thickness=1, circle_radius=2)\n",
    "                             ) \n",
    "    # Draw left hand connections\n",
    "    mp_drawing.draw_landmarks(image, results.left_hand_landmarks, mp_holistic.HAND_CONNECTIONS, \n",
    "                             mp_drawing.DrawingSpec(color=(121,22,76), thickness=1, circle_radius=3), \n",
    "                             mp_drawing.DrawingSpec(color=(121,44,250), thickness=1, circle_radius=1)\n",
    "                             ) \n",
    "    # Draw right hand connections  \n",
    "    mp_drawing.draw_landmarks(image, results.right_hand_landmarks, mp_holistic.HAND_CONNECTIONS, \n",
    "                             mp_drawing.DrawingSpec(color=(245,117,66), thickness=1, circle_radius=3), \n",
    "                             mp_drawing.DrawingSpec(color=(245,66,230), thickness=1, circle_radius=1)\n",
    "                             ) "
   ]
  },
  {
   "cell_type": "markdown",
   "metadata": {},
   "source": [
    "Extract Keypoint Values"
   ]
  },
  {
   "cell_type": "code",
   "execution_count": 5,
   "metadata": {},
   "outputs": [],
   "source": [
    "def extract_keypoints(results):\n",
    "    pose = np.array([[res.x, res.y, res.z, res.visibility] for res in results.pose_landmarks.landmark]).flatten() if results.pose_landmarks else np.zeros(33*4)\n",
    "    lh = np.array([[res.x, res.y, res.z] for res in results.left_hand_landmarks.landmark]).flatten() if results.left_hand_landmarks else np.zeros(21*3)\n",
    "    rh = np.array([[res.x, res.y, res.z] for res in results.right_hand_landmarks.landmark]).flatten() if results.right_hand_landmarks else np.zeros(21*3)\n",
    "    return np.concatenate([pose, lh, rh])"
   ]
  },
  {
   "cell_type": "markdown",
   "metadata": {},
   "source": [
    "Setup Folders for Collection"
   ]
  },
  {
   "cell_type": "code",
   "execution_count": null,
   "metadata": {},
   "outputs": [],
   "source": [
    "# Path for exported data, numpy arrays\n",
    "path = os.getcwd()\n",
    "DATA_PATH = os.path.join('MP_Data') \n",
    "# VIDEO_PATH = os.path.join('Video_Data')\n",
    "\n",
    "# Actions that we try to detect\n",
    "actions = np.array(['halo', 'selamat pagi', 'selamat siang', 'selamat sore', 'selamat malam',\n",
    "                    'apa kabar', 'sampai jumpa lagi', 'perkenalkan', 'aku', 'kamu', \n",
    "                    'maaf', 'tolong', 'terima kasih', 'sama-sama', 'ya', 'tidak', 'mau', \n",
    "                    'tidak mau', 'suka', 'makanan'])\n",
    "\n",
    "# num videos worth of data\n",
    "no_sequences = 20\n",
    "\n",
    "# Videos are going to be num frames in length\n",
    "sequence_length = 20"
   ]
  },
  {
   "cell_type": "code",
   "execution_count": 8,
   "metadata": {},
   "outputs": [],
   "source": [
    "# for action in actions: \n",
    "#     action_path = os.path.join(DATA_PATH, action)\n",
    "#     video_path = os.path.join(VIDEO_PATH, action)\n",
    "    \n",
    "#     # Check if the directory exists\n",
    "#     if not os.path.exists(action_path):\n",
    "#         os.makedirs(action_path)\n",
    "#     if not os.path.exists(video_path):\n",
    "#         os.makedirs(video_path)\n",
    "    \n",
    "#     # If directory exists, find the max folder number\n",
    "#     dirmax = np.max(np.array([int(folder) for folder in os.listdir(action_path)])) if os.listdir(action_path) else 0\n",
    "    \n",
    "#     for sequence in range(no_sequences):\n",
    "#         try: \n",
    "#             os.makedirs(os.path.join(DATA_PATH, action, str(dirmax + sequence)))\n",
    "#         except Exception as e:\n",
    "#             print(f\"Error creating directory: {e}\")"
   ]
  },
  {
   "cell_type": "markdown",
   "metadata": {},
   "source": [
    "Create Video Samples"
   ]
  },
  {
   "cell_type": "code",
   "execution_count": 9,
   "metadata": {},
   "outputs": [],
   "source": [
    "# # Loop through actions\n",
    "# action = actions[0]\n",
    "# no_videos = 5\n",
    "# fps = sequence_length\n",
    "# duration = 3\n",
    "# frame_width = 640  \n",
    "# frame_height = 480  \n",
    "# output_dir = os.path.join(VIDEO_PATH, action) # Directory to save videos\n",
    "\n",
    "# # Capture video from webcam\n",
    "# cap = cv2.VideoCapture(0)\n",
    "\n",
    "# # Ensure the camera is opened successfully\n",
    "# if not cap.isOpened():\n",
    "#     print(\"Error: Could not open video stream.\")\n",
    "#     exit()\n",
    "\n",
    "# # Loop through 5 videos\n",
    "# for video_num in range(no_videos):\n",
    "#     # Define the video file path\n",
    "#     video_path = os.path.join(output_dir, f'{action}_{video_num}.mp4')\n",
    "\n",
    "#     # Define the codec and create VideoWriter object to save video in mp4 format\n",
    "#     fourcc = cv2.VideoWriter_fourcc(*'mp4v')  # Codec for .mp4 format\n",
    "#     out = cv2.VideoWriter(video_path, fourcc, fps, (frame_width, frame_height))\n",
    "\n",
    "#     # Capture video frames for the duration specified\n",
    "#     total_frames = fps * duration\n",
    "\n",
    "#     for frame_num in range(total_frames):\n",
    "#         # Read frame from webcam\n",
    "#         ret, frame = cap.read()\n",
    "\n",
    "#         if not ret:\n",
    "#             print(f\"Error: Could not read frame {frame_num} of video {video_num}.\")\n",
    "#             break\n",
    "\n",
    "#         if frame_num == 0: \n",
    "#             cv2.putText(frame, 'STARTING COLLECTION', (120,200), \n",
    "#                         cv2.FONT_HERSHEY_SIMPLEX, 1, (0,255, 0), 4, cv2.LINE_AA)\n",
    "#             cv2.putText(frame, 'Collecting frames for {} Video Number {}'.format(action, no_videos), (15,12), \n",
    "#                         cv2.FONT_HERSHEY_SIMPLEX, 0.5, (0, 0, 255), 1, cv2.LINE_AA)\n",
    "#             # Show to screen\n",
    "#             cv2.imshow('OpenCV Feed', frame)\n",
    "#             cv2.waitKey(2000)\n",
    "#         else: \n",
    "#             cv2.putText(frame, 'Collecting frames for {} Video Number {}'.format(action, no_videos), (15,12), \n",
    "#                         cv2.FONT_HERSHEY_SIMPLEX, 0.5, (0, 0, 255), 1, cv2.LINE_AA)\n",
    "#             # Show to screen\n",
    "#             cv2.imshow('OpenCV Feed', frame)\n",
    "\n",
    "#         # Save the frame to the video file\n",
    "#         out.write(frame)\n",
    "\n",
    "#         # Break if 'q' is pressed to stop early\n",
    "#         if cv2.waitKey(10) & 0xFF == ord('q'):\n",
    "#             break\n",
    "\n",
    "#     # Release the VideoWriter object after each video\n",
    "#     out.release()\n",
    "#     print(f\"Video {video_num} saved at {video_path}\")\n",
    "\n",
    "# # Release the capture and close all windows\n",
    "# cap.release()\n",
    "# cv2.destroyAllWindows()"
   ]
  },
  {
   "cell_type": "markdown",
   "metadata": {},
   "source": [
    "Collect Keypoint Values for Training and Testing"
   ]
  },
  {
   "cell_type": "code",
   "execution_count": 10,
   "metadata": {},
   "outputs": [],
   "source": [
    "cap = cv2.VideoCapture(0)\n",
    "# Set mediapipe model \n",
    "with mp_holistic.Holistic(min_detection_confidence=0.5, min_tracking_confidence=0.5) as holistic:\n",
    "\n",
    "    # Loop through actions\n",
    "    action = actions[17]\n",
    "    # Loop through sequences aka videos\n",
    "    for sequence in range(no_sequences):\n",
    "        # Loop through video length aka sequence length\n",
    "        for frame_num in range(sequence_length):\n",
    "\n",
    "            # Read feed\n",
    "            ret, frame = cap.read()\n",
    "\n",
    "            # Make detections\n",
    "            image, results = mediapipe_detection(frame, holistic)\n",
    "\n",
    "            # Draw landmarks\n",
    "            draw_styled_landmarks(image, results)\n",
    "            \n",
    "            # NEW Apply wait logic\n",
    "            if frame_num == 0: \n",
    "                cv2.putText(image, 'STARTING COLLECTION', (120,200), \n",
    "                            cv2.FONT_HERSHEY_SIMPLEX, 1, (0,255, 0), 4, cv2.LINE_AA)\n",
    "                cv2.putText(image, 'Collecting frames for {} Video Number {}'.format(action, sequence), (15,12), \n",
    "                            cv2.FONT_HERSHEY_SIMPLEX, 0.5, (0, 0, 255), 1, cv2.LINE_AA)\n",
    "                # Show to screen\n",
    "                cv2.imshow('OpenCV Feed', image)\n",
    "                cv2.waitKey(2000)\n",
    "            else: \n",
    "                cv2.putText(image, 'Collecting frames for {} Video Number {}'.format(action, sequence), (15,12), \n",
    "                            cv2.FONT_HERSHEY_SIMPLEX, 0.5, (0, 0, 255), 1, cv2.LINE_AA)\n",
    "                # Show to screen\n",
    "                cv2.imshow('OpenCV Feed', image)\n",
    "            \n",
    "            # NEW Export keypoints\n",
    "            keypoints = extract_keypoints(results)\n",
    "            npy_path = os.path.join(DATA_PATH, action, str(sequence), str(frame_num))\n",
    "            np.save(npy_path, keypoints)\n",
    "\n",
    "            # Break gracefully\n",
    "            if cv2.waitKey(10) & 0xFF == ord('q'):\n",
    "                break\n",
    "            \n",
    "    cap.release()\n",
    "    cv2.destroyAllWindows()"
   ]
  },
  {
   "cell_type": "code",
   "execution_count": 11,
   "metadata": {},
   "outputs": [],
   "source": [
    "cap.release()\n",
    "cv2.destroyAllWindows()"
   ]
  },
  {
   "cell_type": "markdown",
   "metadata": {},
   "source": [
    "Preprocess Data and Create Labels and Features"
   ]
  },
  {
   "cell_type": "code",
   "execution_count": 6,
   "metadata": {},
   "outputs": [],
   "source": [
    "from sklearn.model_selection import train_test_split\n",
    "from tensorflow.keras.utils import to_categorical"
   ]
  },
  {
   "cell_type": "code",
   "execution_count": 7,
   "metadata": {},
   "outputs": [
    {
     "ename": "NameError",
     "evalue": "name 'actions' is not defined",
     "output_type": "error",
     "traceback": [
      "\u001b[1;31m---------------------------------------------------------------------------\u001b[0m",
      "\u001b[1;31mNameError\u001b[0m                                 Traceback (most recent call last)",
      "Cell \u001b[1;32mIn[7], line 1\u001b[0m\n\u001b[1;32m----> 1\u001b[0m label_map \u001b[38;5;241m=\u001b[39m {label:num \u001b[38;5;28;01mfor\u001b[39;00m num, label \u001b[38;5;129;01min\u001b[39;00m \u001b[38;5;28menumerate\u001b[39m(\u001b[43mactions\u001b[49m)}\n\u001b[0;32m      2\u001b[0m label_map\n",
      "\u001b[1;31mNameError\u001b[0m: name 'actions' is not defined"
     ]
    }
   ],
   "source": [
    "label_map = {label:num for num, label in enumerate(actions)}\n",
    "label_map"
   ]
  },
  {
   "cell_type": "code",
   "execution_count": 9,
   "metadata": {},
   "outputs": [],
   "source": [
    "sequences, labels = [], []\n",
    "for action in actions:\n",
    "    for sequence in range(no_sequences):\n",
    "        window = []\n",
    "        for frame_num in range(sequence_length):\n",
    "            res = np.load(os.path.join(DATA_PATH, action, str(sequence), \"{}.npy\".format(frame_num)))\n",
    "            window.append(res)\n",
    "        sequences.append(window)\n",
    "        labels.append(label_map[action])"
   ]
  },
  {
   "cell_type": "code",
   "execution_count": 10,
   "metadata": {},
   "outputs": [
    {
     "data": {
      "text/plain": [
       "(400, 20, 258)"
      ]
     },
     "execution_count": 10,
     "metadata": {},
     "output_type": "execute_result"
    }
   ],
   "source": [
    "np.array(sequences).shape"
   ]
  },
  {
   "cell_type": "code",
   "execution_count": 11,
   "metadata": {},
   "outputs": [
    {
     "data": {
      "text/plain": [
       "(400,)"
      ]
     },
     "execution_count": 11,
     "metadata": {},
     "output_type": "execute_result"
    }
   ],
   "source": [
    "np.array(labels).shape"
   ]
  },
  {
   "cell_type": "code",
   "execution_count": 12,
   "metadata": {},
   "outputs": [
    {
     "data": {
      "text/plain": [
       "(400, 20, 258)"
      ]
     },
     "execution_count": 12,
     "metadata": {},
     "output_type": "execute_result"
    }
   ],
   "source": [
    "X = np.array(sequences)\n",
    "X.shape"
   ]
  },
  {
   "cell_type": "code",
   "execution_count": 13,
   "metadata": {},
   "outputs": [],
   "source": [
    "y = to_categorical(labels).astype(int)"
   ]
  },
  {
   "cell_type": "code",
   "execution_count": 14,
   "metadata": {},
   "outputs": [],
   "source": [
    "X_train, X_test, y_train, y_test = train_test_split(X, y, test_size=0.05)"
   ]
  },
  {
   "cell_type": "code",
   "execution_count": 15,
   "metadata": {},
   "outputs": [
    {
     "data": {
      "text/plain": [
       "(20, 20)"
      ]
     },
     "execution_count": 15,
     "metadata": {},
     "output_type": "execute_result"
    }
   ],
   "source": [
    "y_test.shape"
   ]
  },
  {
   "cell_type": "markdown",
   "metadata": {},
   "source": [
    "Build and Train LSTM Neural Network"
   ]
  },
  {
   "cell_type": "code",
   "execution_count": 16,
   "metadata": {},
   "outputs": [],
   "source": [
    "from tensorflow.keras.models import Sequential\n",
    "from tensorflow.keras.layers import LSTM, Dense\n",
    "from tensorflow.keras.callbacks import TensorBoard"
   ]
  },
  {
   "cell_type": "code",
   "execution_count": 17,
   "metadata": {},
   "outputs": [
    {
     "name": "stdout",
     "output_type": "stream",
     "text": [
      "WARNING:tensorflow:From d:\\python\\Lib\\site-packages\\keras\\src\\backend.py:873: The name tf.get_default_graph is deprecated. Please use tf.compat.v1.get_default_graph instead.\n",
      "\n"
     ]
    }
   ],
   "source": [
    "model = Sequential()\n",
    "model.add(LSTM(64, return_sequences=True, activation='relu', input_shape=(20,258)))\n",
    "model.add(LSTM(128, return_sequences=True, activation='relu'))\n",
    "model.add(LSTM(64, return_sequences=False, activation='relu'))\n",
    "model.add(Dense(64, activation='relu'))\n",
    "model.add(Dense(32, activation='relu'))\n",
    "model.add(Dense(actions.shape[0], activation='softmax'))"
   ]
  },
  {
   "cell_type": "code",
   "execution_count": 18,
   "metadata": {},
   "outputs": [
    {
     "name": "stdout",
     "output_type": "stream",
     "text": [
      "WARNING:tensorflow:From d:\\python\\Lib\\site-packages\\keras\\src\\optimizers\\__init__.py:309: The name tf.train.Optimizer is deprecated. Please use tf.compat.v1.train.Optimizer instead.\n",
      "\n"
     ]
    }
   ],
   "source": [
    "model.compile(optimizer='Adam', loss='categorical_crossentropy', metrics=['categorical_accuracy'])"
   ]
  },
  {
   "cell_type": "code",
   "execution_count": 19,
   "metadata": {},
   "outputs": [],
   "source": [
    "log_dir = os.path.join('Logs')\n",
    "tb_callback = TensorBoard(log_dir=log_dir)\n",
    "import tensorflow as tf\n",
    "\n",
    "class EarlyStoppingByAccuracy(tf.keras.callbacks.Callback):\n",
    "    def __init__(self, monitor='categorical_accuracy', value=0.99, verbose=1):\n",
    "        super(EarlyStoppingByAccuracy, self).__init__()\n",
    "        self.monitor = monitor\n",
    "        self.value = value\n",
    "        self.verbose = verbose\n",
    "\n",
    "    def on_epoch_end(self, epoch, logs={}):\n",
    "        current = logs.get(self.monitor)\n",
    "        if current is not None:\n",
    "            if current > self.value:\n",
    "                if self.verbose > 0:\n",
    "                    print(f\"\\nEpoch {epoch + 1}: Early stopping as {self.monitor} reached {current:.4f}\")\n",
    "                self.model.stop_training = True\n"
   ]
  },
  {
   "cell_type": "code",
   "execution_count": 20,
   "metadata": {},
   "outputs": [
    {
     "name": "stdout",
     "output_type": "stream",
     "text": [
      "Epoch 1/500\n",
      "WARNING:tensorflow:From d:\\python\\Lib\\site-packages\\keras\\src\\utils\\tf_utils.py:492: The name tf.ragged.RaggedTensorValue is deprecated. Please use tf.compat.v1.ragged.RaggedTensorValue instead.\n",
      "\n",
      "WARNING:tensorflow:From d:\\python\\Lib\\site-packages\\keras\\src\\engine\\base_layer_utils.py:384: The name tf.executing_eagerly_outside_functions is deprecated. Please use tf.compat.v1.executing_eagerly_outside_functions instead.\n",
      "\n",
      " 6/12 [==============>...............] - ETA: 0s - loss: 2.9899 - categorical_accuracy: 0.0365WARNING:tensorflow:Callback method `on_train_batch_end` is slow compared to the batch time (batch time: 0.0677s vs `on_train_batch_end` time: 0.4404s). Check your callbacks.\n",
      "12/12 [==============================] - 24s 75ms/step - loss: 2.9305 - categorical_accuracy: 0.0447\n",
      "Epoch 2/500\n",
      "12/12 [==============================] - 1s 77ms/step - loss: 2.6648 - categorical_accuracy: 0.1368\n",
      "Epoch 3/500\n",
      "12/12 [==============================] - 1s 76ms/step - loss: 2.6196 - categorical_accuracy: 0.1658\n",
      "Epoch 4/500\n",
      "12/12 [==============================] - 1s 84ms/step - loss: 2.6542 - categorical_accuracy: 0.1605\n",
      "Epoch 5/500\n",
      "12/12 [==============================] - 1s 83ms/step - loss: 2.5221 - categorical_accuracy: 0.2184\n",
      "Epoch 6/500\n",
      "12/12 [==============================] - 1s 98ms/step - loss: 2.5078 - categorical_accuracy: 0.2211\n",
      "Epoch 7/500\n",
      "12/12 [==============================] - 1s 78ms/step - loss: 2.3889 - categorical_accuracy: 0.2632\n",
      "Epoch 8/500\n",
      "12/12 [==============================] - 1s 78ms/step - loss: 2.3089 - categorical_accuracy: 0.2842\n",
      "Epoch 9/500\n",
      "12/12 [==============================] - 1s 86ms/step - loss: 2.3113 - categorical_accuracy: 0.2632\n",
      "Epoch 10/500\n",
      "12/12 [==============================] - 1s 85ms/step - loss: 2.1728 - categorical_accuracy: 0.2842\n",
      "Epoch 11/500\n",
      "12/12 [==============================] - 1s 100ms/step - loss: 2.0043 - categorical_accuracy: 0.3000\n",
      "Epoch 12/500\n",
      "12/12 [==============================] - 1s 81ms/step - loss: 1.9437 - categorical_accuracy: 0.3658\n",
      "Epoch 13/500\n",
      "12/12 [==============================] - 1s 83ms/step - loss: 1.8906 - categorical_accuracy: 0.3579\n",
      "Epoch 14/500\n",
      "12/12 [==============================] - 1s 89ms/step - loss: 1.9266 - categorical_accuracy: 0.3632\n",
      "Epoch 15/500\n",
      "12/12 [==============================] - 1s 91ms/step - loss: 1.6879 - categorical_accuracy: 0.4158\n",
      "Epoch 16/500\n",
      "12/12 [==============================] - 1s 82ms/step - loss: 1.6455 - categorical_accuracy: 0.4579\n",
      "Epoch 17/500\n",
      "12/12 [==============================] - 1s 102ms/step - loss: 1.9598 - categorical_accuracy: 0.3684\n",
      "Epoch 18/500\n",
      "12/12 [==============================] - 1s 88ms/step - loss: 1.7625 - categorical_accuracy: 0.3763\n",
      "Epoch 19/500\n",
      "12/12 [==============================] - 1s 85ms/step - loss: 1.6068 - categorical_accuracy: 0.4711\n",
      "Epoch 20/500\n",
      "12/12 [==============================] - 1s 83ms/step - loss: 1.3798 - categorical_accuracy: 0.4921\n",
      "Epoch 21/500\n",
      "12/12 [==============================] - 1s 80ms/step - loss: 1.4312 - categorical_accuracy: 0.4974\n",
      "Epoch 22/500\n",
      "12/12 [==============================] - 1s 79ms/step - loss: 1.3880 - categorical_accuracy: 0.5684\n",
      "Epoch 23/500\n",
      "12/12 [==============================] - 1s 102ms/step - loss: 1.3063 - categorical_accuracy: 0.5789\n",
      "Epoch 24/500\n",
      "12/12 [==============================] - 1s 81ms/step - loss: 1.1373 - categorical_accuracy: 0.6026\n",
      "Epoch 25/500\n",
      "12/12 [==============================] - 1s 81ms/step - loss: 1.6114 - categorical_accuracy: 0.5368\n",
      "Epoch 26/500\n",
      "12/12 [==============================] - 1s 78ms/step - loss: 1.9087 - categorical_accuracy: 0.4237\n",
      "Epoch 27/500\n",
      "12/12 [==============================] - 1s 80ms/step - loss: 1.6902 - categorical_accuracy: 0.4711\n",
      "Epoch 28/500\n",
      "12/12 [==============================] - 1s 96ms/step - loss: 1.4569 - categorical_accuracy: 0.4921\n",
      "Epoch 29/500\n",
      "12/12 [==============================] - 1s 84ms/step - loss: 1.3607 - categorical_accuracy: 0.5500\n",
      "Epoch 30/500\n",
      "12/12 [==============================] - 1s 101ms/step - loss: 1.3752 - categorical_accuracy: 0.5447\n",
      "Epoch 31/500\n",
      "12/12 [==============================] - 1s 87ms/step - loss: 1.3907 - categorical_accuracy: 0.5447\n",
      "Epoch 32/500\n",
      "12/12 [==============================] - 1s 87ms/step - loss: 1.2226 - categorical_accuracy: 0.5632\n",
      "Epoch 33/500\n",
      "12/12 [==============================] - 1s 81ms/step - loss: 0.9405 - categorical_accuracy: 0.6947\n",
      "Epoch 34/500\n",
      "12/12 [==============================] - 1s 103ms/step - loss: 1.0087 - categorical_accuracy: 0.6579\n",
      "Epoch 35/500\n",
      "12/12 [==============================] - 1s 109ms/step - loss: 0.8959 - categorical_accuracy: 0.7000\n",
      "Epoch 36/500\n",
      "12/12 [==============================] - 1s 101ms/step - loss: 0.7639 - categorical_accuracy: 0.7579\n",
      "Epoch 37/500\n",
      "12/12 [==============================] - 1s 82ms/step - loss: 0.6390 - categorical_accuracy: 0.7737\n",
      "Epoch 38/500\n",
      "12/12 [==============================] - 1s 85ms/step - loss: 0.5325 - categorical_accuracy: 0.8053\n",
      "Epoch 39/500\n",
      "12/12 [==============================] - 1s 86ms/step - loss: 0.5905 - categorical_accuracy: 0.7947\n",
      "Epoch 40/500\n",
      "12/12 [==============================] - 1s 100ms/step - loss: 0.5698 - categorical_accuracy: 0.7947\n",
      "Epoch 41/500\n",
      "12/12 [==============================] - 1s 87ms/step - loss: 0.5685 - categorical_accuracy: 0.8211\n",
      "Epoch 42/500\n",
      "12/12 [==============================] - 1s 83ms/step - loss: 0.3638 - categorical_accuracy: 0.9000\n",
      "Epoch 43/500\n",
      "12/12 [==============================] - 1s 82ms/step - loss: 0.3140 - categorical_accuracy: 0.9026\n",
      "Epoch 44/500\n",
      "12/12 [==============================] - 1s 83ms/step - loss: 0.3932 - categorical_accuracy: 0.8737\n",
      "Epoch 45/500\n",
      "12/12 [==============================] - 1s 99ms/step - loss: 0.3664 - categorical_accuracy: 0.8737\n",
      "Epoch 46/500\n",
      "12/12 [==============================] - 1s 84ms/step - loss: 0.3462 - categorical_accuracy: 0.8789\n",
      "Epoch 47/500\n",
      "12/12 [==============================] - 1s 86ms/step - loss: 0.3801 - categorical_accuracy: 0.8500\n",
      "Epoch 48/500\n",
      "12/12 [==============================] - 1s 87ms/step - loss: 0.3937 - categorical_accuracy: 0.8605\n",
      "Epoch 49/500\n",
      "12/12 [==============================] - 1s 92ms/step - loss: 0.4204 - categorical_accuracy: 0.8526\n",
      "Epoch 50/500\n",
      "12/12 [==============================] - 1s 84ms/step - loss: 0.4392 - categorical_accuracy: 0.8395\n",
      "Epoch 51/500\n",
      "12/12 [==============================] - 1s 105ms/step - loss: 0.3035 - categorical_accuracy: 0.8895\n",
      "Epoch 52/500\n",
      "12/12 [==============================] - 1s 82ms/step - loss: 0.3988 - categorical_accuracy: 0.8763\n",
      "Epoch 53/500\n",
      "12/12 [==============================] - 1s 84ms/step - loss: 0.2734 - categorical_accuracy: 0.8974\n",
      "Epoch 54/500\n",
      "12/12 [==============================] - 1s 80ms/step - loss: 0.2094 - categorical_accuracy: 0.9237\n",
      "Epoch 55/500\n",
      "12/12 [==============================] - 1s 97ms/step - loss: 0.2000 - categorical_accuracy: 0.9263\n",
      "Epoch 56/500\n",
      "12/12 [==============================] - 1s 115ms/step - loss: 0.2208 - categorical_accuracy: 0.9184\n",
      "Epoch 57/500\n",
      "12/12 [==============================] - 1s 83ms/step - loss: 0.3090 - categorical_accuracy: 0.8842\n",
      "Epoch 58/500\n",
      "12/12 [==============================] - 1s 82ms/step - loss: 0.1661 - categorical_accuracy: 0.9395\n",
      "Epoch 59/500\n",
      "12/12 [==============================] - 1s 85ms/step - loss: 0.0909 - categorical_accuracy: 0.9737\n",
      "Epoch 60/500\n",
      "12/12 [==============================] - 1s 98ms/step - loss: 0.0833 - categorical_accuracy: 0.9789\n",
      "Epoch 61/500\n",
      "12/12 [==============================] - 1s 89ms/step - loss: 0.1786 - categorical_accuracy: 0.9421\n",
      "Epoch 62/500\n",
      "12/12 [==============================] - 1s 87ms/step - loss: 0.1789 - categorical_accuracy: 0.9263\n",
      "Epoch 63/500\n",
      "12/12 [==============================] - 1s 100ms/step - loss: 0.1776 - categorical_accuracy: 0.9500\n",
      "Epoch 64/500\n",
      "12/12 [==============================] - 1s 84ms/step - loss: 0.1600 - categorical_accuracy: 0.9474\n",
      "Epoch 65/500\n",
      "12/12 [==============================] - 1s 118ms/step - loss: 0.1322 - categorical_accuracy: 0.9500\n",
      "Epoch 66/500\n",
      "12/12 [==============================] - 1s 93ms/step - loss: 0.1232 - categorical_accuracy: 0.9605\n",
      "Epoch 67/500\n",
      "12/12 [==============================] - 1s 83ms/step - loss: 0.2986 - categorical_accuracy: 0.8921\n",
      "Epoch 68/500\n",
      "12/12 [==============================] - 1s 92ms/step - loss: 0.2597 - categorical_accuracy: 0.9053\n",
      "Epoch 69/500\n",
      "12/12 [==============================] - 1s 89ms/step - loss: 0.1568 - categorical_accuracy: 0.9368\n",
      "Epoch 70/500\n",
      "12/12 [==============================] - 1s 81ms/step - loss: 0.2642 - categorical_accuracy: 0.9105\n",
      "Epoch 71/500\n",
      "12/12 [==============================] - 1s 105ms/step - loss: 0.3306 - categorical_accuracy: 0.9053\n",
      "Epoch 72/500\n",
      "12/12 [==============================] - 1s 87ms/step - loss: 0.2287 - categorical_accuracy: 0.9263\n",
      "Epoch 73/500\n",
      "12/12 [==============================] - 1s 94ms/step - loss: 0.1815 - categorical_accuracy: 0.9368\n",
      "Epoch 74/500\n",
      "12/12 [==============================] - 1s 93ms/step - loss: 0.0903 - categorical_accuracy: 0.9684\n",
      "Epoch 75/500\n",
      "12/12 [==============================] - 1s 85ms/step - loss: 0.2106 - categorical_accuracy: 0.9342\n",
      "Epoch 76/500\n",
      "12/12 [==============================] - 1s 101ms/step - loss: 0.2307 - categorical_accuracy: 0.9000\n",
      "Epoch 77/500\n",
      "12/12 [==============================] - 1s 83ms/step - loss: 0.1560 - categorical_accuracy: 0.9421\n",
      "Epoch 78/500\n",
      "12/12 [==============================] - 1s 83ms/step - loss: 0.1471 - categorical_accuracy: 0.9395\n",
      "Epoch 79/500\n",
      "12/12 [==============================] - 1s 82ms/step - loss: 0.1224 - categorical_accuracy: 0.9474\n",
      "Epoch 80/500\n",
      "12/12 [==============================] - 1s 79ms/step - loss: 0.0636 - categorical_accuracy: 0.9816\n",
      "Epoch 81/500\n",
      "12/12 [==============================] - 1s 88ms/step - loss: 0.0697 - categorical_accuracy: 0.9763\n",
      "Epoch 82/500\n",
      "12/12 [==============================] - 1s 104ms/step - loss: 0.1643 - categorical_accuracy: 0.9526\n",
      "Epoch 83/500\n",
      "12/12 [==============================] - 1s 89ms/step - loss: 0.0891 - categorical_accuracy: 0.9684\n",
      "Epoch 84/500\n",
      "12/12 [==============================] - 1s 84ms/step - loss: 0.2497 - categorical_accuracy: 0.9421\n",
      "Epoch 85/500\n",
      "12/12 [==============================] - 1s 82ms/step - loss: 0.3217 - categorical_accuracy: 0.8947\n",
      "Epoch 86/500\n",
      "12/12 [==============================] - 1s 85ms/step - loss: 0.1637 - categorical_accuracy: 0.9421\n",
      "Epoch 87/500\n",
      "12/12 [==============================] - 1s 109ms/step - loss: 0.1727 - categorical_accuracy: 0.9526\n",
      "Epoch 88/500\n",
      "12/12 [==============================] - 1s 84ms/step - loss: 0.2975 - categorical_accuracy: 0.9289\n",
      "Epoch 89/500\n",
      "12/12 [==============================] - 1s 82ms/step - loss: 0.1856 - categorical_accuracy: 0.9395\n",
      "Epoch 90/500\n",
      "12/12 [==============================] - 1s 86ms/step - loss: 0.2228 - categorical_accuracy: 0.9289\n",
      "Epoch 91/500\n",
      "12/12 [==============================] - 1s 81ms/step - loss: 0.0956 - categorical_accuracy: 0.9553\n",
      "Epoch 92/500\n",
      "12/12 [==============================] - 1s 97ms/step - loss: 0.0556 - categorical_accuracy: 0.9868\n",
      "Epoch 93/500\n",
      "12/12 [==============================] - 1s 87ms/step - loss: 0.0397 - categorical_accuracy: 0.9842\n",
      "Epoch 94/500\n",
      "12/12 [==============================] - 1s 87ms/step - loss: 0.0813 - categorical_accuracy: 0.9658\n",
      "Epoch 95/500\n",
      "12/12 [==============================] - 1s 81ms/step - loss: 0.6531 - categorical_accuracy: 0.8211\n",
      "Epoch 96/500\n",
      "12/12 [==============================] - 1s 81ms/step - loss: 0.7191 - categorical_accuracy: 0.7711\n",
      "Epoch 97/500\n",
      "12/12 [==============================] - 1s 83ms/step - loss: 0.3046 - categorical_accuracy: 0.9053\n",
      "Epoch 98/500\n",
      "12/12 [==============================] - 1s 105ms/step - loss: 0.1242 - categorical_accuracy: 0.9579\n",
      "Epoch 99/500\n",
      "12/12 [==============================] - 1s 81ms/step - loss: 0.1253 - categorical_accuracy: 0.9737\n",
      "Epoch 100/500\n",
      "12/12 [==============================] - 1s 78ms/step - loss: 0.1223 - categorical_accuracy: 0.9526\n",
      "Epoch 101/500\n",
      "12/12 [==============================] - 1s 82ms/step - loss: 0.1335 - categorical_accuracy: 0.9579\n",
      "Epoch 102/500\n",
      "12/12 [==============================] - 1s 85ms/step - loss: 0.1077 - categorical_accuracy: 0.9474\n",
      "Epoch 103/500\n",
      "12/12 [==============================] - 1s 102ms/step - loss: 0.1321 - categorical_accuracy: 0.9421\n",
      "Epoch 104/500\n",
      "12/12 [==============================] - 1s 91ms/step - loss: 0.0909 - categorical_accuracy: 0.9711\n",
      "Epoch 105/500\n",
      "12/12 [==============================] - 1s 88ms/step - loss: 0.1557 - categorical_accuracy: 0.9605\n",
      "Epoch 106/500\n",
      "12/12 [==============================] - 1s 83ms/step - loss: 0.1080 - categorical_accuracy: 0.9579\n",
      "Epoch 107/500\n",
      "12/12 [==============================] - 1s 81ms/step - loss: 0.0527 - categorical_accuracy: 0.9842\n",
      "Epoch 108/500\n",
      "12/12 [==============================] - 1s 92ms/step - loss: 0.0486 - categorical_accuracy: 0.9789\n",
      "Epoch 109/500\n",
      "12/12 [==============================] - 1s 89ms/step - loss: 0.0613 - categorical_accuracy: 0.9684\n",
      "Epoch 110/500\n",
      "12/12 [==============================] - ETA: 0s - loss: 0.0352 - categorical_accuracy: 1.0000\n",
      "Epoch 110: Early stopping as categorical_accuracy reached 1.0000\n",
      "12/12 [==============================] - 1s 93ms/step - loss: 0.0352 - categorical_accuracy: 1.0000\n"
     ]
    }
   ],
   "source": [
    "# model.fit(X_train, y_train, epochs=100, callbacks=[tb_callback])\n",
    "history = model.fit(X_train, y_train, epochs=500, callbacks=[tb_callback, EarlyStoppingByAccuracy()])"
   ]
  },
  {
   "cell_type": "code",
   "execution_count": 21,
   "metadata": {},
   "outputs": [
    {
     "name": "stdout",
     "output_type": "stream",
     "text": [
      "Model: \"sequential\"\n",
      "_________________________________________________________________\n",
      " Layer (type)                Output Shape              Param #   \n",
      "=================================================================\n",
      " lstm (LSTM)                 (None, 20, 64)            82688     \n",
      "                                                                 \n",
      " lstm_1 (LSTM)               (None, 20, 128)           98816     \n",
      "                                                                 \n",
      " lstm_2 (LSTM)               (None, 64)                49408     \n",
      "                                                                 \n",
      " dense (Dense)               (None, 64)                4160      \n",
      "                                                                 \n",
      " dense_1 (Dense)             (None, 32)                2080      \n",
      "                                                                 \n",
      " dense_2 (Dense)             (None, 20)                660       \n",
      "                                                                 \n",
      "=================================================================\n",
      "Total params: 237812 (928.95 KB)\n",
      "Trainable params: 237812 (928.95 KB)\n",
      "Non-trainable params: 0 (0.00 Byte)\n",
      "_________________________________________________________________\n"
     ]
    }
   ],
   "source": [
    "model.summary()"
   ]
  },
  {
   "cell_type": "markdown",
   "metadata": {},
   "source": [
    "Make Predictions"
   ]
  },
  {
   "cell_type": "code",
   "execution_count": 22,
   "metadata": {},
   "outputs": [
    {
     "name": "stdout",
     "output_type": "stream",
     "text": [
      "1/1 [==============================] - 2s 2s/step\n"
     ]
    }
   ],
   "source": [
    "res = model.predict(X_test)"
   ]
  },
  {
   "cell_type": "code",
   "execution_count": 23,
   "metadata": {},
   "outputs": [
    {
     "data": {
      "text/plain": [
       "'tolong'"
      ]
     },
     "execution_count": 23,
     "metadata": {},
     "output_type": "execute_result"
    }
   ],
   "source": [
    "actions[np.argmax(res[6])]"
   ]
  },
  {
   "cell_type": "code",
   "execution_count": 24,
   "metadata": {},
   "outputs": [
    {
     "data": {
      "text/plain": [
       "'tolong'"
      ]
     },
     "execution_count": 24,
     "metadata": {},
     "output_type": "execute_result"
    }
   ],
   "source": [
    "actions[np.argmax(y_test[6])]"
   ]
  },
  {
   "cell_type": "markdown",
   "metadata": {},
   "source": [
    "Save Weights"
   ]
  },
  {
   "cell_type": "code",
   "execution_count": 28,
   "metadata": {},
   "outputs": [
    {
     "name": "stdout",
     "output_type": "stream",
     "text": [
      "{'name': 'sequential', 'layers': [{'module': 'keras.layers', 'class_name': 'InputLayer', 'config': {'batch_input_shape': (None, 20, 258), 'dtype': 'float32', 'sparse': False, 'ragged': False, 'name': 'lstm_input'}, 'registered_name': None}, {'module': 'keras.layers', 'class_name': 'LSTM', 'config': {'name': 'lstm', 'trainable': True, 'dtype': 'float32', 'batch_input_shape': (None, 20, 258), 'return_sequences': True, 'return_state': False, 'go_backwards': False, 'stateful': False, 'unroll': False, 'time_major': False, 'units': 64, 'activation': 'relu', 'recurrent_activation': 'sigmoid', 'use_bias': True, 'kernel_initializer': {'module': 'keras.initializers', 'class_name': 'GlorotUniform', 'config': {'seed': None}, 'registered_name': None}, 'recurrent_initializer': {'module': 'keras.initializers', 'class_name': 'Orthogonal', 'config': {'gain': 1.0, 'seed': None}, 'registered_name': None}, 'bias_initializer': {'module': 'keras.initializers', 'class_name': 'Zeros', 'config': {}, 'registered_name': None}, 'unit_forget_bias': True, 'kernel_regularizer': None, 'recurrent_regularizer': None, 'bias_regularizer': None, 'activity_regularizer': None, 'kernel_constraint': None, 'recurrent_constraint': None, 'bias_constraint': None, 'dropout': 0.0, 'recurrent_dropout': 0.0, 'implementation': 2}, 'registered_name': None, 'build_config': {'input_shape': (None, 20, 258)}}, {'module': 'keras.layers', 'class_name': 'LSTM', 'config': {'name': 'lstm_1', 'trainable': True, 'dtype': 'float32', 'return_sequences': True, 'return_state': False, 'go_backwards': False, 'stateful': False, 'unroll': False, 'time_major': False, 'units': 128, 'activation': 'relu', 'recurrent_activation': 'sigmoid', 'use_bias': True, 'kernel_initializer': {'module': 'keras.initializers', 'class_name': 'GlorotUniform', 'config': {'seed': None}, 'registered_name': None}, 'recurrent_initializer': {'module': 'keras.initializers', 'class_name': 'Orthogonal', 'config': {'gain': 1.0, 'seed': None}, 'registered_name': None}, 'bias_initializer': {'module': 'keras.initializers', 'class_name': 'Zeros', 'config': {}, 'registered_name': None}, 'unit_forget_bias': True, 'kernel_regularizer': None, 'recurrent_regularizer': None, 'bias_regularizer': None, 'activity_regularizer': None, 'kernel_constraint': None, 'recurrent_constraint': None, 'bias_constraint': None, 'dropout': 0.0, 'recurrent_dropout': 0.0, 'implementation': 2}, 'registered_name': None, 'build_config': {'input_shape': (None, 20, 64)}}, {'module': 'keras.layers', 'class_name': 'LSTM', 'config': {'name': 'lstm_2', 'trainable': True, 'dtype': 'float32', 'return_sequences': False, 'return_state': False, 'go_backwards': False, 'stateful': False, 'unroll': False, 'time_major': False, 'units': 64, 'activation': 'relu', 'recurrent_activation': 'sigmoid', 'use_bias': True, 'kernel_initializer': {'module': 'keras.initializers', 'class_name': 'GlorotUniform', 'config': {'seed': None}, 'registered_name': None}, 'recurrent_initializer': {'module': 'keras.initializers', 'class_name': 'Orthogonal', 'config': {'gain': 1.0, 'seed': None}, 'registered_name': None}, 'bias_initializer': {'module': 'keras.initializers', 'class_name': 'Zeros', 'config': {}, 'registered_name': None}, 'unit_forget_bias': True, 'kernel_regularizer': None, 'recurrent_regularizer': None, 'bias_regularizer': None, 'activity_regularizer': None, 'kernel_constraint': None, 'recurrent_constraint': None, 'bias_constraint': None, 'dropout': 0.0, 'recurrent_dropout': 0.0, 'implementation': 2}, 'registered_name': None, 'build_config': {'input_shape': (None, 20, 128)}}, {'module': 'keras.layers', 'class_name': 'Dense', 'config': {'name': 'dense', 'trainable': True, 'dtype': 'float32', 'units': 64, 'activation': 'relu', 'use_bias': True, 'kernel_initializer': {'module': 'keras.initializers', 'class_name': 'GlorotUniform', 'config': {'seed': None}, 'registered_name': None}, 'bias_initializer': {'module': 'keras.initializers', 'class_name': 'Zeros', 'config': {}, 'registered_name': None}, 'kernel_regularizer': None, 'bias_regularizer': None, 'activity_regularizer': None, 'kernel_constraint': None, 'bias_constraint': None}, 'registered_name': None, 'build_config': {'input_shape': (None, 64)}}, {'module': 'keras.layers', 'class_name': 'Dense', 'config': {'name': 'dense_1', 'trainable': True, 'dtype': 'float32', 'units': 32, 'activation': 'relu', 'use_bias': True, 'kernel_initializer': {'module': 'keras.initializers', 'class_name': 'GlorotUniform', 'config': {'seed': None}, 'registered_name': None}, 'bias_initializer': {'module': 'keras.initializers', 'class_name': 'Zeros', 'config': {}, 'registered_name': None}, 'kernel_regularizer': None, 'bias_regularizer': None, 'activity_regularizer': None, 'kernel_constraint': None, 'bias_constraint': None}, 'registered_name': None, 'build_config': {'input_shape': (None, 64)}}, {'module': 'keras.layers', 'class_name': 'Dense', 'config': {'name': 'dense_2', 'trainable': True, 'dtype': 'float32', 'units': 20, 'activation': 'softmax', 'use_bias': True, 'kernel_initializer': {'module': 'keras.initializers', 'class_name': 'GlorotUniform', 'config': {'seed': None}, 'registered_name': None}, 'bias_initializer': {'module': 'keras.initializers', 'class_name': 'Zeros', 'config': {}, 'registered_name': None}, 'kernel_regularizer': None, 'bias_regularizer': None, 'activity_regularizer': None, 'kernel_constraint': None, 'bias_constraint': None}, 'registered_name': None, 'build_config': {'input_shape': (None, 32)}}]}\n"
     ]
    }
   ],
   "source": [
    "print(model.get_config())  # This will display the model configuration"
   ]
  },
  {
   "cell_type": "code",
   "execution_count": 32,
   "metadata": {},
   "outputs": [
    {
     "name": "stdout",
     "output_type": "stream",
     "text": [
      "WARNING:tensorflow:Compiled the loaded model, but the compiled metrics have yet to be built. `model.compile_metrics` will be empty until you train or evaluate the model.\n"
     ]
    },
    {
     "name": "stderr",
     "output_type": "stream",
     "text": [
      "d:\\python\\Lib\\site-packages\\keras\\src\\engine\\training.py:3103: UserWarning: You are saving your model as an HDF5 file via `model.save()`. This file format is considered legacy. We recommend using instead the native Keras format, e.g. `model.save('my_model.keras')`.\n",
      "  saving_api.save_model(\n"
     ]
    }
   ],
   "source": [
    "config = model.get_config()\n",
    "# Remove the time_major argument from the LSTM layers if present\n",
    "for layer in config['layers']:\n",
    "    if 'time_major' in layer['config']:\n",
    "        del layer['config']['time_major']\n",
    "\n",
    "# Rebuild the model using the modified configuration\n",
    "new_model = Sequential.from_config(config)\n",
    "\n",
    "# Load weights from the original model\n",
    "new_model.set_weights(model.get_weights())\n",
    "\n",
    "# Save the updated model\n",
    "new_model.save('my_model_no_timemajor.h5')"
   ]
  },
  {
   "cell_type": "code",
   "execution_count": 29,
   "metadata": {},
   "outputs": [
    {
     "name": "stderr",
     "output_type": "stream",
     "text": [
      "d:\\python\\Lib\\site-packages\\keras\\src\\engine\\training.py:3103: UserWarning: You are saving your model as an HDF5 file via `model.save()`. This file format is considered legacy. We recommend using instead the native Keras format, e.g. `model.save('my_model.keras')`.\n",
      "  saving_api.save_model(\n"
     ]
    }
   ],
   "source": [
    "model.save('my_model.h5')"
   ]
  },
  {
   "cell_type": "code",
   "execution_count": 31,
   "metadata": {},
   "outputs": [],
   "source": [
    "model.save('my_model.keras')"
   ]
  },
  {
   "cell_type": "code",
   "execution_count": 35,
   "metadata": {},
   "outputs": [],
   "source": [
    "from tensorflow.keras.models import load_model\n",
    "model = load_model('my_model.h5')"
   ]
  },
  {
   "cell_type": "code",
   "execution_count": 37,
   "metadata": {},
   "outputs": [
    {
     "name": "stderr",
     "output_type": "stream",
     "text": [
      "WARNING:root:Failure to load the inference.so custom c++ tensorflow ops. This error is likely caused the version of TensorFlow and TensorFlow Decision Forests are not compatible. Full error:d:\\python\\Lib\\site-packages\\tensorflow_decision_forests\\tensorflow\\ops\\inference\\inference.so not found\n"
     ]
    },
    {
     "ename": "NotFoundError",
     "evalue": "d:\\python\\Lib\\site-packages\\tensorflow_decision_forests\\tensorflow\\ops\\inference\\inference.so not found",
     "output_type": "error",
     "traceback": [
      "\u001b[1;31m---------------------------------------------------------------------------\u001b[0m",
      "\u001b[1;31mNotFoundError\u001b[0m                             Traceback (most recent call last)",
      "Cell \u001b[1;32mIn[37], line 1\u001b[0m\n\u001b[1;32m----> 1\u001b[0m \u001b[38;5;28;01mimport\u001b[39;00m \u001b[38;5;21;01mtensorflowjs\u001b[39;00m \u001b[38;5;28;01mas\u001b[39;00m \u001b[38;5;21;01mtfjs\u001b[39;00m\n\u001b[0;32m      2\u001b[0m tfjs\u001b[38;5;241m.\u001b[39mconverters\u001b[38;5;241m.\u001b[39msave_keras_model(model, \u001b[38;5;124m'\u001b[39m\u001b[38;5;124mtfjs_model\u001b[39m\u001b[38;5;124m'\u001b[39m)\n",
      "File \u001b[1;32md:\\python\\Lib\\site-packages\\tensorflowjs\\__init__.py:21\u001b[0m\n\u001b[0;32m     18\u001b[0m \u001b[38;5;28;01mfrom\u001b[39;00m \u001b[38;5;21;01m__future__\u001b[39;00m \u001b[38;5;28;01mimport\u001b[39;00m print_function\n\u001b[0;32m     20\u001b[0m \u001b[38;5;66;03m# pylint: disable=unused-imports\u001b[39;00m\n\u001b[1;32m---> 21\u001b[0m \u001b[38;5;28;01mfrom\u001b[39;00m \u001b[38;5;21;01mtensorflowjs\u001b[39;00m \u001b[38;5;28;01mimport\u001b[39;00m converters\n\u001b[0;32m     22\u001b[0m \u001b[38;5;28;01mfrom\u001b[39;00m \u001b[38;5;21;01mtensorflowjs\u001b[39;00m \u001b[38;5;28;01mimport\u001b[39;00m quantization\n\u001b[0;32m     23\u001b[0m \u001b[38;5;28;01mfrom\u001b[39;00m \u001b[38;5;21;01mtensorflowjs\u001b[39;00m \u001b[38;5;28;01mimport\u001b[39;00m version\n",
      "File \u001b[1;32md:\\python\\Lib\\site-packages\\tensorflowjs\\converters\\__init__.py:21\u001b[0m\n\u001b[0;32m     18\u001b[0m \u001b[38;5;28;01mfrom\u001b[39;00m \u001b[38;5;21;01m__future__\u001b[39;00m \u001b[38;5;28;01mimport\u001b[39;00m print_function\n\u001b[0;32m     20\u001b[0m \u001b[38;5;66;03m# pylint: disable=unused-imports,line-too-long\u001b[39;00m\n\u001b[1;32m---> 21\u001b[0m \u001b[38;5;28;01mfrom\u001b[39;00m \u001b[38;5;21;01mtensorflowjs\u001b[39;00m\u001b[38;5;21;01m.\u001b[39;00m\u001b[38;5;21;01mconverters\u001b[39;00m\u001b[38;5;21;01m.\u001b[39;00m\u001b[38;5;21;01mconverter\u001b[39;00m \u001b[38;5;28;01mimport\u001b[39;00m convert\n\u001b[0;32m     22\u001b[0m \u001b[38;5;28;01mfrom\u001b[39;00m \u001b[38;5;21;01mtensorflowjs\u001b[39;00m\u001b[38;5;21;01m.\u001b[39;00m\u001b[38;5;21;01mconverters\u001b[39;00m\u001b[38;5;21;01m.\u001b[39;00m\u001b[38;5;21;01mkeras_h5_conversion\u001b[39;00m \u001b[38;5;28;01mimport\u001b[39;00m save_keras_model\n\u001b[0;32m     23\u001b[0m \u001b[38;5;28;01mfrom\u001b[39;00m \u001b[38;5;21;01mtensorflowjs\u001b[39;00m\u001b[38;5;21;01m.\u001b[39;00m\u001b[38;5;21;01mconverters\u001b[39;00m\u001b[38;5;21;01m.\u001b[39;00m\u001b[38;5;21;01mkeras_tfjs_loader\u001b[39;00m \u001b[38;5;28;01mimport\u001b[39;00m deserialize_keras_model\n",
      "File \u001b[1;32md:\\python\\Lib\\site-packages\\tensorflowjs\\converters\\converter.py:38\u001b[0m\n\u001b[0;32m     36\u001b[0m \u001b[38;5;28;01mfrom\u001b[39;00m \u001b[38;5;21;01mtensorflowjs\u001b[39;00m\u001b[38;5;21;01m.\u001b[39;00m\u001b[38;5;21;01mconverters\u001b[39;00m \u001b[38;5;28;01mimport\u001b[39;00m keras_h5_conversion \u001b[38;5;28;01mas\u001b[39;00m conversion\n\u001b[0;32m     37\u001b[0m \u001b[38;5;28;01mfrom\u001b[39;00m \u001b[38;5;21;01mtensorflowjs\u001b[39;00m\u001b[38;5;21;01m.\u001b[39;00m\u001b[38;5;21;01mconverters\u001b[39;00m \u001b[38;5;28;01mimport\u001b[39;00m keras_tfjs_loader\n\u001b[1;32m---> 38\u001b[0m \u001b[38;5;28;01mfrom\u001b[39;00m \u001b[38;5;21;01mtensorflowjs\u001b[39;00m\u001b[38;5;21;01m.\u001b[39;00m\u001b[38;5;21;01mconverters\u001b[39;00m \u001b[38;5;28;01mimport\u001b[39;00m tf_saved_model_conversion_v2\n\u001b[0;32m     39\u001b[0m \u001b[38;5;28;01mfrom\u001b[39;00m \u001b[38;5;21;01mzipfile\u001b[39;00m \u001b[38;5;28;01mimport\u001b[39;00m ZipFile, is_zipfile\n\u001b[0;32m     42\u001b[0m \u001b[38;5;28;01mdef\u001b[39;00m \u001b[38;5;21mdispatch_keras_h5_to_tfjs_layers_model_conversion\u001b[39m(\n\u001b[0;32m     43\u001b[0m     h5_path, output_dir\u001b[38;5;241m=\u001b[39m\u001b[38;5;28;01mNone\u001b[39;00m, quantization_dtype_map\u001b[38;5;241m=\u001b[39m\u001b[38;5;28;01mNone\u001b[39;00m,\n\u001b[0;32m     44\u001b[0m     split_weights_by_layer\u001b[38;5;241m=\u001b[39m\u001b[38;5;28;01mFalse\u001b[39;00m,\n\u001b[0;32m     45\u001b[0m     weight_shard_size_bytes\u001b[38;5;241m=\u001b[39m\u001b[38;5;241m1024\u001b[39m \u001b[38;5;241m*\u001b[39m \u001b[38;5;241m1024\u001b[39m \u001b[38;5;241m*\u001b[39m \u001b[38;5;241m4\u001b[39m,\n\u001b[0;32m     46\u001b[0m     metadata\u001b[38;5;241m=\u001b[39m\u001b[38;5;28;01mNone\u001b[39;00m):\n",
      "File \u001b[1;32md:\\python\\Lib\\site-packages\\tensorflowjs\\converters\\tf_saved_model_conversion_v2.py:28\u001b[0m\n\u001b[0;32m     25\u001b[0m \u001b[38;5;28;01mfrom\u001b[39;00m \u001b[38;5;21;01mzipfile\u001b[39;00m \u001b[38;5;28;01mimport\u001b[39;00m ZipFile\n\u001b[0;32m     27\u001b[0m \u001b[38;5;66;03m# Required to load saved models that use TFDF.\u001b[39;00m\n\u001b[1;32m---> 28\u001b[0m \u001b[38;5;28;01mimport\u001b[39;00m \u001b[38;5;21;01mtensorflow_decision_forests\u001b[39;00m\n\u001b[0;32m     29\u001b[0m \u001b[38;5;28;01mimport\u001b[39;00m \u001b[38;5;21;01mtensorflow\u001b[39;00m \u001b[38;5;28;01mas\u001b[39;00m \u001b[38;5;21;01mtf\u001b[39;00m\n\u001b[0;32m     30\u001b[0m \u001b[38;5;28;01mfrom\u001b[39;00m \u001b[38;5;21;01mtensorflow\u001b[39;00m\u001b[38;5;21;01m.\u001b[39;00m\u001b[38;5;21;01mcore\u001b[39;00m\u001b[38;5;21;01m.\u001b[39;00m\u001b[38;5;21;01mframework\u001b[39;00m \u001b[38;5;28;01mimport\u001b[39;00m function_pb2\n",
      "File \u001b[1;32md:\\python\\Lib\\site-packages\\tensorflow_decision_forests\\__init__.py:64\u001b[0m\n\u001b[0;32m     60\u001b[0m \u001b[38;5;28;01mfrom\u001b[39;00m \u001b[38;5;21;01mtensorflow_decision_forests\u001b[39;00m\u001b[38;5;21;01m.\u001b[39;00m\u001b[38;5;21;01mtensorflow\u001b[39;00m \u001b[38;5;28;01mimport\u001b[39;00m check_version\n\u001b[0;32m     62\u001b[0m check_version\u001b[38;5;241m.\u001b[39mcheck_version(__version__, compatible_tf_versions)\n\u001b[1;32m---> 64\u001b[0m \u001b[38;5;28;01mfrom\u001b[39;00m \u001b[38;5;21;01mtensorflow_decision_forests\u001b[39;00m \u001b[38;5;28;01mimport\u001b[39;00m keras\n\u001b[0;32m     65\u001b[0m \u001b[38;5;28;01mfrom\u001b[39;00m \u001b[38;5;21;01mtensorflow_decision_forests\u001b[39;00m\u001b[38;5;21;01m.\u001b[39;00m\u001b[38;5;21;01mcomponent\u001b[39;00m \u001b[38;5;28;01mimport\u001b[39;00m py_tree\n\u001b[0;32m     66\u001b[0m \u001b[38;5;28;01mfrom\u001b[39;00m \u001b[38;5;21;01mtensorflow_decision_forests\u001b[39;00m\u001b[38;5;21;01m.\u001b[39;00m\u001b[38;5;21;01mcomponent\u001b[39;00m\u001b[38;5;21;01m.\u001b[39;00m\u001b[38;5;21;01mbuilder\u001b[39;00m \u001b[38;5;28;01mimport\u001b[39;00m builder\n",
      "File \u001b[1;32md:\\python\\Lib\\site-packages\\tensorflow_decision_forests\\keras\\__init__.py:53\u001b[0m\n\u001b[0;32m     15\u001b[0m \u001b[38;5;124;03m\"\"\"Decision Forest in a Keras Model.\u001b[39;00m\n\u001b[0;32m     16\u001b[0m \n\u001b[0;32m     17\u001b[0m \u001b[38;5;124;03mUsage example:\u001b[39;00m\n\u001b[1;32m   (...)\u001b[0m\n\u001b[0;32m     48\u001b[0m \u001b[38;5;124;03m```\u001b[39;00m\n\u001b[0;32m     49\u001b[0m \u001b[38;5;124;03m\"\"\"\u001b[39;00m\n\u001b[0;32m     51\u001b[0m \u001b[38;5;28;01mfrom\u001b[39;00m \u001b[38;5;21;01mtyping\u001b[39;00m \u001b[38;5;28;01mimport\u001b[39;00m Callable, List\n\u001b[1;32m---> 53\u001b[0m \u001b[38;5;28;01mfrom\u001b[39;00m \u001b[38;5;21;01mtensorflow_decision_forests\u001b[39;00m\u001b[38;5;21;01m.\u001b[39;00m\u001b[38;5;21;01mkeras\u001b[39;00m \u001b[38;5;28;01mimport\u001b[39;00m core\n\u001b[0;32m     54\u001b[0m \u001b[38;5;28;01mfrom\u001b[39;00m \u001b[38;5;21;01mtensorflow_decision_forests\u001b[39;00m\u001b[38;5;21;01m.\u001b[39;00m\u001b[38;5;21;01mkeras\u001b[39;00m \u001b[38;5;28;01mimport\u001b[39;00m wrappers\n\u001b[0;32m     56\u001b[0m \u001b[38;5;66;03m# Utility classes\u001b[39;00m\n",
      "File \u001b[1;32md:\\python\\Lib\\site-packages\\tensorflow_decision_forests\\keras\\core.py:62\u001b[0m\n\u001b[0;32m     60\u001b[0m \u001b[38;5;28;01mfrom\u001b[39;00m \u001b[38;5;21;01mtensorflow_decision_forests\u001b[39;00m\u001b[38;5;21;01m.\u001b[39;00m\u001b[38;5;21;01mcomponent\u001b[39;00m\u001b[38;5;21;01m.\u001b[39;00m\u001b[38;5;21;01minspector\u001b[39;00m \u001b[38;5;28;01mimport\u001b[39;00m inspector \u001b[38;5;28;01mas\u001b[39;00m inspector_lib\n\u001b[0;32m     61\u001b[0m \u001b[38;5;28;01mfrom\u001b[39;00m \u001b[38;5;21;01mtensorflow_decision_forests\u001b[39;00m\u001b[38;5;21;01m.\u001b[39;00m\u001b[38;5;21;01mcomponent\u001b[39;00m\u001b[38;5;21;01m.\u001b[39;00m\u001b[38;5;21;01mtuner\u001b[39;00m \u001b[38;5;28;01mimport\u001b[39;00m tuner \u001b[38;5;28;01mas\u001b[39;00m tuner_lib\n\u001b[1;32m---> 62\u001b[0m \u001b[38;5;28;01mfrom\u001b[39;00m \u001b[38;5;21;01mtensorflow_decision_forests\u001b[39;00m\u001b[38;5;21;01m.\u001b[39;00m\u001b[38;5;21;01mkeras\u001b[39;00m \u001b[38;5;28;01mimport\u001b[39;00m core_inference\n\u001b[0;32m     63\u001b[0m \u001b[38;5;28;01mfrom\u001b[39;00m \u001b[38;5;21;01mtensorflow_decision_forests\u001b[39;00m\u001b[38;5;21;01m.\u001b[39;00m\u001b[38;5;21;01mtensorflow\u001b[39;00m \u001b[38;5;28;01mimport\u001b[39;00m cc_logging\n\u001b[0;32m     64\u001b[0m \u001b[38;5;28;01mfrom\u001b[39;00m \u001b[38;5;21;01mtensorflow_decision_forests\u001b[39;00m\u001b[38;5;21;01m.\u001b[39;00m\u001b[38;5;21;01mtensorflow\u001b[39;00m \u001b[38;5;28;01mimport\u001b[39;00m core \u001b[38;5;28;01mas\u001b[39;00m tf_core\n",
      "File \u001b[1;32md:\\python\\Lib\\site-packages\\tensorflow_decision_forests\\keras\\core_inference.py:36\u001b[0m\n\u001b[0;32m     34\u001b[0m \u001b[38;5;28;01mfrom\u001b[39;00m \u001b[38;5;21;01mtensorflow_decision_forests\u001b[39;00m\u001b[38;5;21;01m.\u001b[39;00m\u001b[38;5;21;01mtensorflow\u001b[39;00m \u001b[38;5;28;01mimport\u001b[39;00m core_inference \u001b[38;5;28;01mas\u001b[39;00m tf_core\n\u001b[0;32m     35\u001b[0m \u001b[38;5;28;01mfrom\u001b[39;00m \u001b[38;5;21;01mtensorflow_decision_forests\u001b[39;00m\u001b[38;5;21;01m.\u001b[39;00m\u001b[38;5;21;01mtensorflow\u001b[39;00m \u001b[38;5;28;01mimport\u001b[39;00m tf_logging\n\u001b[1;32m---> 36\u001b[0m \u001b[38;5;28;01mfrom\u001b[39;00m \u001b[38;5;21;01mtensorflow_decision_forests\u001b[39;00m\u001b[38;5;21;01m.\u001b[39;00m\u001b[38;5;21;01mtensorflow\u001b[39;00m\u001b[38;5;21;01m.\u001b[39;00m\u001b[38;5;21;01mops\u001b[39;00m\u001b[38;5;21;01m.\u001b[39;00m\u001b[38;5;21;01minference\u001b[39;00m \u001b[38;5;28;01mimport\u001b[39;00m api \u001b[38;5;28;01mas\u001b[39;00m tf_op\n\u001b[0;32m     37\u001b[0m \u001b[38;5;28;01mfrom\u001b[39;00m \u001b[38;5;21;01myggdrasil_decision_forests\u001b[39;00m\u001b[38;5;21;01m.\u001b[39;00m\u001b[38;5;21;01mlearner\u001b[39;00m \u001b[38;5;28;01mimport\u001b[39;00m abstract_learner_pb2\n\u001b[0;32m     38\u001b[0m \u001b[38;5;28;01mfrom\u001b[39;00m \u001b[38;5;21;01myggdrasil_decision_forests\u001b[39;00m\u001b[38;5;21;01m.\u001b[39;00m\u001b[38;5;21;01mlearner\u001b[39;00m\u001b[38;5;21;01m.\u001b[39;00m\u001b[38;5;21;01mmultitasker\u001b[39;00m \u001b[38;5;28;01mimport\u001b[39;00m multitasker_pb2\n",
      "File \u001b[1;32md:\\python\\Lib\\site-packages\\tensorflow_decision_forests\\tensorflow\\ops\\inference\\api.py:179\u001b[0m\n\u001b[0;32m    177\u001b[0m \u001b[38;5;28;01mfrom\u001b[39;00m \u001b[38;5;21;01mtensorflow_decision_forests\u001b[39;00m\u001b[38;5;21;01m.\u001b[39;00m\u001b[38;5;21;01mcomponent\u001b[39;00m\u001b[38;5;21;01m.\u001b[39;00m\u001b[38;5;21;01minspector\u001b[39;00m \u001b[38;5;28;01mimport\u001b[39;00m inspector \u001b[38;5;28;01mas\u001b[39;00m inspector_lib\n\u001b[0;32m    178\u001b[0m \u001b[38;5;28;01mfrom\u001b[39;00m \u001b[38;5;21;01mtensorflow_decision_forests\u001b[39;00m\u001b[38;5;21;01m.\u001b[39;00m\u001b[38;5;21;01mtensorflow\u001b[39;00m \u001b[38;5;28;01mimport\u001b[39;00m tf1_compatibility\n\u001b[1;32m--> 179\u001b[0m \u001b[38;5;28;01mfrom\u001b[39;00m \u001b[38;5;21;01mtensorflow_decision_forests\u001b[39;00m\u001b[38;5;21;01m.\u001b[39;00m\u001b[38;5;21;01mtensorflow\u001b[39;00m\u001b[38;5;21;01m.\u001b[39;00m\u001b[38;5;21;01mops\u001b[39;00m\u001b[38;5;21;01m.\u001b[39;00m\u001b[38;5;21;01minference\u001b[39;00m \u001b[38;5;28;01mimport\u001b[39;00m op\n\u001b[0;32m    180\u001b[0m \u001b[38;5;28;01mfrom\u001b[39;00m \u001b[38;5;21;01myggdrasil_decision_forests\u001b[39;00m\u001b[38;5;21;01m.\u001b[39;00m\u001b[38;5;21;01mdataset\u001b[39;00m \u001b[38;5;28;01mimport\u001b[39;00m data_spec_pb2\n\u001b[0;32m    181\u001b[0m \u001b[38;5;28;01mfrom\u001b[39;00m \u001b[38;5;21;01myggdrasil_decision_forests\u001b[39;00m\u001b[38;5;21;01m.\u001b[39;00m\u001b[38;5;21;01mmodel\u001b[39;00m \u001b[38;5;28;01mimport\u001b[39;00m abstract_model_pb2\n",
      "File \u001b[1;32md:\\python\\Lib\\site-packages\\tensorflow_decision_forests\\tensorflow\\ops\\inference\\op.py:15\u001b[0m\n\u001b[0;32m      1\u001b[0m \u001b[38;5;66;03m# Copyright 2021 Google LLC.\u001b[39;00m\n\u001b[0;32m      2\u001b[0m \u001b[38;5;66;03m#\u001b[39;00m\n\u001b[0;32m      3\u001b[0m \u001b[38;5;66;03m# Licensed under the Apache License, Version 2.0 (the \"License\");\u001b[39;00m\n\u001b[1;32m   (...)\u001b[0m\n\u001b[0;32m     12\u001b[0m \u001b[38;5;66;03m# See the License for the specific language governing permissions and\u001b[39;00m\n\u001b[0;32m     13\u001b[0m \u001b[38;5;66;03m# limitations under the License.\u001b[39;00m\n\u001b[1;32m---> 15\u001b[0m \u001b[38;5;28;01mfrom\u001b[39;00m \u001b[38;5;21;01mtensorflow_decision_forests\u001b[39;00m\u001b[38;5;21;01m.\u001b[39;00m\u001b[38;5;21;01mtensorflow\u001b[39;00m\u001b[38;5;21;01m.\u001b[39;00m\u001b[38;5;21;01mops\u001b[39;00m\u001b[38;5;21;01m.\u001b[39;00m\u001b[38;5;21;01minference\u001b[39;00m\u001b[38;5;21;01m.\u001b[39;00m\u001b[38;5;21;01mop_dynamic\u001b[39;00m \u001b[38;5;28;01mimport\u001b[39;00m \u001b[38;5;241m*\u001b[39m\n",
      "File \u001b[1;32md:\\python\\Lib\\site-packages\\tensorflow_decision_forests\\tensorflow\\ops\\inference\\op_dynamic.py:24\u001b[0m\n\u001b[0;32m     22\u001b[0m \u001b[38;5;28;01mexcept\u001b[39;00m \u001b[38;5;167;01mException\u001b[39;00m \u001b[38;5;28;01mas\u001b[39;00m e:\n\u001b[0;32m     23\u001b[0m   check_version\u001b[38;5;241m.\u001b[39minfo_fail_to_load_custom_op(e, \u001b[38;5;124m\"\u001b[39m\u001b[38;5;124minference.so\u001b[39m\u001b[38;5;124m\"\u001b[39m)\n\u001b[1;32m---> 24\u001b[0m   \u001b[38;5;28;01mraise\u001b[39;00m e\n\u001b[0;32m     26\u001b[0m \u001b[38;5;66;03m# Importing all the symbols.\u001b[39;00m\n\u001b[0;32m     27\u001b[0m module \u001b[38;5;241m=\u001b[39m sys\u001b[38;5;241m.\u001b[39mmodules[\u001b[38;5;18m__name__\u001b[39m]\n",
      "File \u001b[1;32md:\\python\\Lib\\site-packages\\tensorflow_decision_forests\\tensorflow\\ops\\inference\\op_dynamic.py:21\u001b[0m\n\u001b[0;32m     18\u001b[0m \u001b[38;5;28;01mimport\u001b[39;00m \u001b[38;5;21;01msys\u001b[39;00m\n\u001b[0;32m     20\u001b[0m \u001b[38;5;28;01mtry\u001b[39;00m:\n\u001b[1;32m---> 21\u001b[0m   ops \u001b[38;5;241m=\u001b[39m \u001b[43mtf\u001b[49m\u001b[38;5;241;43m.\u001b[39;49m\u001b[43mload_op_library\u001b[49m\u001b[43m(\u001b[49m\u001b[43mresource_loader\u001b[49m\u001b[38;5;241;43m.\u001b[39;49m\u001b[43mget_path_to_datafile\u001b[49m\u001b[43m(\u001b[49m\u001b[38;5;124;43m\"\u001b[39;49m\u001b[38;5;124;43minference.so\u001b[39;49m\u001b[38;5;124;43m\"\u001b[39;49m\u001b[43m)\u001b[49m\u001b[43m)\u001b[49m\n\u001b[0;32m     22\u001b[0m \u001b[38;5;28;01mexcept\u001b[39;00m \u001b[38;5;167;01mException\u001b[39;00m \u001b[38;5;28;01mas\u001b[39;00m e:\n\u001b[0;32m     23\u001b[0m   check_version\u001b[38;5;241m.\u001b[39minfo_fail_to_load_custom_op(e, \u001b[38;5;124m\"\u001b[39m\u001b[38;5;124minference.so\u001b[39m\u001b[38;5;124m\"\u001b[39m)\n",
      "File \u001b[1;32md:\\python\\Lib\\site-packages\\tensorflow\\python\\framework\\load_library.py:54\u001b[0m, in \u001b[0;36mload_op_library\u001b[1;34m(library_filename)\u001b[0m\n\u001b[0;32m     31\u001b[0m \u001b[38;5;129m@tf_export\u001b[39m(\u001b[38;5;124m'\u001b[39m\u001b[38;5;124mload_op_library\u001b[39m\u001b[38;5;124m'\u001b[39m)\n\u001b[0;32m     32\u001b[0m \u001b[38;5;28;01mdef\u001b[39;00m \u001b[38;5;21mload_op_library\u001b[39m(library_filename):\n\u001b[0;32m     33\u001b[0m \u001b[38;5;250m  \u001b[39m\u001b[38;5;124;03m\"\"\"Loads a TensorFlow plugin, containing custom ops and kernels.\u001b[39;00m\n\u001b[0;32m     34\u001b[0m \n\u001b[0;32m     35\u001b[0m \u001b[38;5;124;03m  Pass \"library_filename\" to a platform-specific mechanism for dynamically\u001b[39;00m\n\u001b[1;32m   (...)\u001b[0m\n\u001b[0;32m     52\u001b[0m \u001b[38;5;124;03m    RuntimeError: when unable to load the library or get the python wrappers.\u001b[39;00m\n\u001b[0;32m     53\u001b[0m \u001b[38;5;124;03m  \"\"\"\u001b[39;00m\n\u001b[1;32m---> 54\u001b[0m   lib_handle \u001b[38;5;241m=\u001b[39m \u001b[43mpy_tf\u001b[49m\u001b[38;5;241;43m.\u001b[39;49m\u001b[43mTF_LoadLibrary\u001b[49m\u001b[43m(\u001b[49m\u001b[43mlibrary_filename\u001b[49m\u001b[43m)\u001b[49m\n\u001b[0;32m     55\u001b[0m   \u001b[38;5;28;01mtry\u001b[39;00m:\n\u001b[0;32m     56\u001b[0m     wrappers \u001b[38;5;241m=\u001b[39m _pywrap_python_op_gen\u001b[38;5;241m.\u001b[39mGetPythonWrappers(\n\u001b[0;32m     57\u001b[0m         py_tf\u001b[38;5;241m.\u001b[39mTF_GetOpList(lib_handle))\n",
      "\u001b[1;31mNotFoundError\u001b[0m: d:\\python\\Lib\\site-packages\\tensorflow_decision_forests\\tensorflow\\ops\\inference\\inference.so not found"
     ]
    }
   ],
   "source": [
    "import tensorflowjs as tfjs\n",
    "tfjs.converters.save_keras_model(model, 'tfjs_model')"
   ]
  },
  {
   "cell_type": "code",
   "execution_count": 59,
   "metadata": {},
   "outputs": [],
   "source": [
    "model.load_weights('my_model.keras')"
   ]
  },
  {
   "cell_type": "markdown",
   "metadata": {},
   "source": [
    "Convert model to jason"
   ]
  },
  {
   "cell_type": "markdown",
   "metadata": {},
   "source": [
    "Evaluation using Confusion Matrix and Accuracy"
   ]
  },
  {
   "cell_type": "code",
   "execution_count": 25,
   "metadata": {},
   "outputs": [],
   "source": [
    "from sklearn.metrics import multilabel_confusion_matrix, accuracy_score"
   ]
  },
  {
   "cell_type": "code",
   "execution_count": 26,
   "metadata": {},
   "outputs": [
    {
     "name": "stdout",
     "output_type": "stream",
     "text": [
      "1/1 [==============================] - 0s 115ms/step\n"
     ]
    },
    {
     "data": {
      "text/plain": [
       "array([[[19,  0],\n",
       "        [ 0,  1]],\n",
       "\n",
       "       [[19,  0],\n",
       "        [ 0,  1]],\n",
       "\n",
       "       [[19,  0],\n",
       "        [ 0,  1]],\n",
       "\n",
       "       [[17,  0],\n",
       "        [ 0,  3]],\n",
       "\n",
       "       [[17,  0],\n",
       "        [ 1,  2]],\n",
       "\n",
       "       [[19,  0],\n",
       "        [ 0,  1]],\n",
       "\n",
       "       [[19,  0],\n",
       "        [ 1,  0]],\n",
       "\n",
       "       [[17,  2],\n",
       "        [ 0,  1]],\n",
       "\n",
       "       [[17,  0],\n",
       "        [ 0,  3]],\n",
       "\n",
       "       [[19,  1],\n",
       "        [ 0,  0]],\n",
       "\n",
       "       [[18,  0],\n",
       "        [ 0,  2]],\n",
       "\n",
       "       [[19,  0],\n",
       "        [ 0,  1]],\n",
       "\n",
       "       [[18,  0],\n",
       "        [ 1,  1]]], dtype=int64)"
      ]
     },
     "execution_count": 26,
     "metadata": {},
     "output_type": "execute_result"
    }
   ],
   "source": [
    "yhat = model.predict(X_test)\n",
    "ytrue = np.argmax(y_test, axis=1).tolist()\n",
    "yhat = np.argmax(yhat, axis=1).tolist()\n",
    "\n",
    "multilabel_confusion_matrix(ytrue, yhat)"
   ]
  },
  {
   "cell_type": "code",
   "execution_count": 27,
   "metadata": {},
   "outputs": [
    {
     "data": {
      "text/plain": [
       "0.85"
      ]
     },
     "execution_count": 27,
     "metadata": {},
     "output_type": "execute_result"
    }
   ],
   "source": [
    "accuracy_score(ytrue, yhat)"
   ]
  },
  {
   "cell_type": "code",
   "execution_count": 29,
   "metadata": {},
   "outputs": [
    {
     "data": {
      "image/png": "[encoded data removed]",
      "text/plain": [
       "<Figure size 1200x600 with 2 Axes>"
      ]
     },
     "metadata": {},
     "output_type": "display_data"
    }
   ],
   "source": [
    "# Plot training loss and training accuracy\n",
    "plt.figure(figsize=(12, 6))\n",
    "\n",
    "# Plotting training loss\n",
    "plt.subplot(1, 2, 1)\n",
    "plt.plot(history.history['loss'], label='Training Loss', color='blue')\n",
    "plt.xlabel('Epochs')\n",
    "plt.ylabel('Loss')\n",
    "plt.title('Training Loss Curve')\n",
    "plt.legend()\n",
    "plt.grid(True)\n",
    "\n",
    "# Plotting training accuracy\n",
    "plt.subplot(1, 2, 2)\n",
    "plt.plot(history.history['categorical_accuracy'], label='Training Accuracy', color='green')\n",
    "plt.xlabel('Epochs')\n",
    "plt.ylabel('Accuracy')\n",
    "plt.title('Training Accuracy Curve')\n",
    "plt.legend()\n",
    "plt.grid(True)\n",
    "\n",
    "plt.tight_layout()\n",
    "plt.show()"
   ]
  },
  {
   "cell_type": "code",
   "execution_count": 30,
   "metadata": {},
   "outputs": [
    {
     "name": "stdout",
     "output_type": "stream",
     "text": [
      "Confusion Matrix:\n",
      " [[1 0 0 0 0 0 0 0 0 0 0 0 0 0]\n",
      " [0 2 0 0 0 0 0 0 0 0 0 0 0 0]\n",
      " [0 0 1 1 0 0 0 0 0 0 0 0 0 0]\n",
      " [0 0 0 2 0 0 0 0 0 0 0 0 0 0]\n",
      " [0 0 0 0 1 0 0 0 0 0 0 0 0 0]\n",
      " [0 0 0 0 0 2 0 0 0 0 0 0 0 0]\n",
      " [0 0 0 0 0 0 2 0 0 0 0 0 0 0]\n",
      " [0 0 0 0 0 0 0 1 0 0 0 0 0 0]\n",
      " [0 0 0 0 0 0 0 0 3 0 0 0 0 0]\n",
      " [0 0 0 0 0 0 0 0 0 1 0 0 0 0]\n",
      " [0 0 0 0 0 0 0 0 0 0 0 0 1 0]\n",
      " [0 0 0 0 0 0 0 0 0 0 0 1 0 0]\n",
      " [0 0 0 0 0 0 0 0 0 0 0 0 0 0]\n",
      " [0 0 0 0 0 0 0 0 0 0 0 0 0 1]]\n",
      "\n",
      "Precision: 0.9166666666666666\n",
      "Recall: 0.9\n",
      "F1 Score: 0.8966666666666667\n"
     ]
    },
    {
     "name": "stderr",
     "output_type": "stream",
     "text": [
      "d:\\python\\Lib\\site-packages\\sklearn\\metrics\\_classification.py:1471: UndefinedMetricWarning: Precision is ill-defined and being set to 0.0 in labels with no predicted samples. Use `zero_division` parameter to control this behavior.\n",
      "  _warn_prf(average, modifier, msg_start, len(result))\n",
      "d:\\python\\Lib\\site-packages\\sklearn\\metrics\\_classification.py:1471: UndefinedMetricWarning: Recall is ill-defined and being set to 0.0 in labels with no true samples. Use `zero_division` parameter to control this behavior.\n",
      "  _warn_prf(average, modifier, msg_start, len(result))\n"
     ]
    }
   ],
   "source": [
    "from sklearn.metrics import confusion_matrix, precision_score, recall_score, f1_score, classification_report\n",
    "\n",
    "y_true = np.argmax(y_test, axis=1).tolist()\n",
    "y_pred = np.argmax(res, axis=1).tolist()\n",
    "\n",
    "# Confusion Matrix\n",
    "cm = confusion_matrix(y_true, y_pred)\n",
    "print(\"Confusion Matrix:\\n\", cm)\n",
    "\n",
    "# Precision, Recall, F1-Score\n",
    "precision = precision_score(y_true, y_pred, average='weighted')\n",
    "recall = recall_score(y_true, y_pred, average='weighted')\n",
    "f1 = f1_score(y_true, y_pred, average='weighted')\n",
    "\n",
    "print(\"\\nPrecision:\", precision)\n",
    "print(\"Recall:\", recall)\n",
    "print(\"F1 Score:\", f1)"
   ]
  }
 ],
 "metadata": {
  "kernelspec": {
   "display_name": "Python 3",
   "language": "python",
   "name": "python3"
  },
  "language_info": {
   "codemirror_mode": {
    "name": "ipython",
    "version": 3
   },
   "file_extension": ".py",
   "mimetype": "text/x-python",
   "name": "python",
   "nbconvert_exporter": "python",
   "pygments_lexer": "ipython3",
   "version": "3.11.5"
  }
 },
 "nbformat": 4,
 "nbformat_minor": 2
}

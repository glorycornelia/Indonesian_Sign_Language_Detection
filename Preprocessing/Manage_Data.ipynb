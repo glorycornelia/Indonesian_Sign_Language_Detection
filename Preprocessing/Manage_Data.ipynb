{
 "cells": [
  {
   "cell_type": "code",
   "execution_count": 2,
   "metadata": {},
   "outputs": [
    {
     "name": "stdout",
     "output_type": "stream",
     "text": [
      "Folders copied and renamed successfully!\n"
     ]
    }
   ],
   "source": [
    "import os\n",
    "import shutil\n",
    "\n",
    "# Define source and destination directories\n",
    "dataset_dir = \"Dataset\"\n",
    "test_dataset_dir = \"TestDataset\"\n",
    "\n",
    "# Get the list of actions (assumed to be the same in both directories)\n",
    "actions = os.listdir(test_dataset_dir)  # e.g., [\"action1\", \"action2\", ..., \"action20\"]\n",
    "\n",
    "for action in actions:\n",
    "    src_action_dir = os.path.join(test_dataset_dir, action)\n",
    "    dst_action_dir = os.path.join(dataset_dir, action)\n",
    "\n",
    "    # Get the number of existing folders in Dataset (should be 40 initially)\n",
    "    num_existing_folders = len(os.listdir(dst_action_dir))\n",
    "\n",
    "    # Copy and rename folders from TestDataset/action to Dataset/action\n",
    "    for i in range(20):  # TestDataset has folders named 0 - 19\n",
    "        src_folder = os.path.join(src_action_dir, str(i))\n",
    "        dst_folder = os.path.join(dst_action_dir, str(num_existing_folders + i))  # Renaming from 40 - 59\n",
    "        \n",
    "        shutil.copytree(src_folder, dst_folder)  # Copy the entire folder\n",
    "\n",
    "print(\"Folders copied and renamed successfully!\")"
   ]
  }
 ],
 "metadata": {
  "kernelspec": {
   "display_name": "Python 3",
   "language": "python",
   "name": "python3"
  },
  "language_info": {
   "codemirror_mode": {
    "name": "ipython",
    "version": 3
   },
   "file_extension": ".py",
   "mimetype": "text/x-python",
   "name": "python",
   "nbconvert_exporter": "python",
   "pygments_lexer": "ipython3",
   "version": "3.11.5"
  }
 },
 "nbformat": 4,
 "nbformat_minor": 2
}
